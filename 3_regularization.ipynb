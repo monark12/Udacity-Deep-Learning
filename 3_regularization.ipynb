{
 "cells": [
  {
   "cell_type": "markdown",
   "metadata": {
    "colab_type": "text",
    "id": "kR-4eNdK6lYS"
   },
   "source": [
    "Deep Learning\n",
    "=============\n",
    "\n",
    "Assignment 3\n",
    "------------\n",
    "\n",
    "Previously in `2_fullyconnected.ipynb`, you trained a logistic regression and a neural network model.\n",
    "\n",
    "The goal of this assignment is to explore regularization techniques."
   ]
  },
  {
   "cell_type": "code",
   "execution_count": 1,
   "metadata": {
    "cellView": "both",
    "colab": {
     "autoexec": {
      "startup": false,
      "wait_interval": 0
     }
    },
    "colab_type": "code",
    "collapsed": false,
    "id": "JLpLa8Jt7Vu4"
   },
   "outputs": [],
   "source": [
    "# These are all the modules we'll be using later. Make sure you can import them\n",
    "# before proceeding further.\n",
    "from __future__ import print_function\n",
    "import numpy as np\n",
    "import tensorflow as tf\n",
    "from six.moves import cPickle as pickle"
   ]
  },
  {
   "cell_type": "markdown",
   "metadata": {
    "colab_type": "text",
    "id": "1HrCK6e17WzV"
   },
   "source": [
    "First reload the data we generated in _notmist.ipynb_."
   ]
  },
  {
   "cell_type": "code",
   "execution_count": 3,
   "metadata": {
    "cellView": "both",
    "colab": {
     "autoexec": {
      "startup": false,
      "wait_interval": 0
     },
     "output_extras": [
      {
       "item_id": 1
      }
     ]
    },
    "colab_type": "code",
    "collapsed": false,
    "executionInfo": {
     "elapsed": 11777,
     "status": "ok",
     "timestamp": 1449849322348,
     "user": {
      "color": "",
      "displayName": "",
      "isAnonymous": false,
      "isMe": true,
      "permissionId": "",
      "photoUrl": "",
      "sessionId": "0",
      "userId": ""
     },
     "user_tz": 480
    },
    "id": "y3-cj1bpmuxc",
    "outputId": "e03576f1-ebbe-4838-c388-f1777bcc9873"
   },
   "outputs": [
    {
     "name": "stdout",
     "output_type": "stream",
     "text": [
      "Training set (187196, 28, 28) (187196,)\n",
      "Test set (8697, 28, 28) (8697,)\n"
     ]
    }
   ],
   "source": [
    "pickle_file = 'notMNIST_sanitized.pickle'\n",
    "\n",
    "with open(pickle_file, 'rb') as f:\n",
    "  save = pickle.load(f)\n",
    "  train_dataset = save['train_dataset']\n",
    "  train_labels = save['train_labels']\n",
    "#   valid_dataset = save['sanitized_valid_dataset']\n",
    "#   valid_labels = save['sanitized_valid_labels']\n",
    "  test_dataset = save['test_dataset']\n",
    "  test_labels = save['test_labels']\n",
    "  del save  # hint to help gc free up memory\n",
    "  print('Training set', train_dataset.shape, train_labels.shape)\n",
    "#   print('Validation set', valid_dataset.shape, valid_labels.shape)\n",
    "  print('Test set', test_dataset.shape, test_labels.shape)"
   ]
  },
  {
   "cell_type": "markdown",
   "metadata": {
    "colab_type": "text",
    "id": "L7aHrm6nGDMB"
   },
   "source": [
    "Reformat into a shape that's more adapted to the models we're going to train:\n",
    "- data as a flat matrix,\n",
    "- labels as float 1-hot encodings."
   ]
  },
  {
   "cell_type": "code",
   "execution_count": 4,
   "metadata": {
    "cellView": "both",
    "colab": {
     "autoexec": {
      "startup": false,
      "wait_interval": 0
     },
     "output_extras": [
      {
       "item_id": 1
      }
     ]
    },
    "colab_type": "code",
    "collapsed": false,
    "executionInfo": {
     "elapsed": 11728,
     "status": "ok",
     "timestamp": 1449849322356,
     "user": {
      "color": "",
      "displayName": "",
      "isAnonymous": false,
      "isMe": true,
      "permissionId": "",
      "photoUrl": "",
      "sessionId": "0",
      "userId": ""
     },
     "user_tz": 480
    },
    "id": "IRSyYiIIGIzS",
    "outputId": "3f8996ee-3574-4f44-c953-5c8a04636582"
   },
   "outputs": [
    {
     "name": "stdout",
     "output_type": "stream",
     "text": [
      "Training set (187196, 784) (187196, 10)\n",
      "Test set (8697, 784) (8697, 10)\n"
     ]
    }
   ],
   "source": [
    "image_size = 28\n",
    "num_labels = 10\n",
    "\n",
    "def reformat(dataset, labels):\n",
    "  dataset = dataset.reshape((-1, image_size * image_size)).astype(np.float32)\n",
    "  # Map 2 to [0.0, 1.0, 0.0 ...], 3 to [0.0, 0.0, 1.0 ...]\n",
    "  labels = (np.arange(num_labels) == labels[:,None]).astype(np.float32)\n",
    "  return dataset, labels\n",
    "train_dataset, train_labels = reformat(train_dataset, train_labels)\n",
    "# valid_dataset, valid_labels = reformat(valid_dataset, valid_labels)\n",
    "test_dataset, test_labels = reformat(test_dataset, test_labels)\n",
    "print('Training set', train_dataset.shape, train_labels.shape)\n",
    "# print('Validation set', valid_dataset.shape, valid_labels.shape)\n",
    "print('Test set', test_dataset.shape, test_labels.shape)"
   ]
  },
  {
   "cell_type": "code",
   "execution_count": 5,
   "metadata": {
    "cellView": "both",
    "colab": {
     "autoexec": {
      "startup": false,
      "wait_interval": 0
     }
    },
    "colab_type": "code",
    "collapsed": true,
    "id": "RajPLaL_ZW6w"
   },
   "outputs": [],
   "source": [
    "def accuracy(predictions, labels):\n",
    "  return (100.0 * np.sum(np.argmax(predictions, 1) == np.argmax(labels, 1))\n",
    "          / predictions.shape[0])"
   ]
  },
  {
   "cell_type": "markdown",
   "metadata": {},
   "source": [
    "---\n",
    "Problem 1\n",
    "---------\n",
    "\n",
    "Introduce and tune L2 regularization for both logistic and neural network models. Remember that L2 amounts to adding a penalty on the norm of the weights to the loss. In TensorFlow, you can compute the L2 loss for a tensor `t` using `nn.l2_loss(t)`. The right amount of regularization should improve your validation / test accuracy.\n",
    "\n",
    "---"
   ]
  },
  {
   "cell_type": "code",
   "execution_count": 89,
   "metadata": {
    "collapsed": false
   },
   "outputs": [],
   "source": [
    "batch = 128\n",
    "hl1 = 1024 # No. of hidden units\n",
    "num_classes = 10\n",
    "\n",
    "from math import sqrt\n",
    "\n",
    "graph = tf.Graph()\n",
    "with graph.as_default():\n",
    "\n",
    "  tf_train_dataset = tf.placeholder(tf.float32,shape=(None, image_size * image_size))\n",
    "  tf_train_labels = tf.placeholder(tf.float32, shape=(None, num_classes))\n",
    "  \n",
    "  \n",
    "  tf_test_dataset = tf.constant(test_dataset)\n",
    "  tf_regularization_parameter = 0.001\n",
    "  \n",
    "  \n",
    "  hidden_weights1 = tf.Variable(tf.truncated_normal([image_size * image_size, hl1],stddev=sqrt(2.0/(image_size*image_size + hl1))))\n",
    "  hidden_biases1 = tf.Variable(tf.zeros([hl1]))\n",
    "  output_weights = tf.Variable(tf.truncated_normal([hl1, num_classes],stddev=sqrt(2.0/(hl1 + num_classes))))\n",
    "  output_biases = tf.Variable(tf.zeros([num_classes]))\n",
    "  \n",
    "  \n",
    "  l1 = tf.nn.relu(tf.matmul(tf_train_dataset, hidden_weights1) + hidden_biases1)\n",
    "  output = tf.matmul(l1, output_weights) + output_biases\n",
    "    \n",
    "  regularizer = tf.nn.l2_loss(hidden_weights1) + tf.nn.l2_loss(hidden_biases1) + tf.nn.l2_loss(output_weights) + tf.nn.l2_loss(output_biases)\n",
    "  \n",
    "  loss = tf.reduce_mean(tf.nn.softmax_cross_entropy_with_logits(output, tf_train_labels))\n",
    "  l2_loss = tf.reduce_mean(loss + (tf_regularization_parameter * regularizer))\n",
    "    \n",
    "  optimizer = tf.train.MomentumOptimizer(0.03, 0.5).minimize(l2_loss)\n",
    "  \n",
    "  \n",
    "  train_prediction = tf.nn.softmax(output)\n",
    "  h1_test = tf.nn.relu(tf.matmul(tf_test_dataset, hidden_weights1) + hidden_biases1)\n",
    "  test_output = tf.matmul(h1_test, output_weights) + output_biases\n",
    "\n",
    "  test_prediction = tf.nn.softmax(test_output)"
   ]
  },
  {
   "cell_type": "code",
   "execution_count": 10,
   "metadata": {
    "collapsed": false
   },
   "outputs": [
    {
     "name": "stdout",
     "output_type": "stream",
     "text": [
      "Epoch 0 completed out of 10 loss 1370.9301374\n",
      "Epoch 1 completed out of 10 loss 1146.43448406\n",
      "Epoch 2 completed out of 10 loss 1035.38426876\n",
      "Epoch 3 completed out of 10 loss 952.956896722\n",
      "Epoch 4 completed out of 10 loss 889.222707897\n",
      "Epoch 5 completed out of 10 loss 838.622138649\n",
      "Epoch 6 completed out of 10 loss 797.766390324\n",
      "Epoch 7 completed out of 10 loss 764.447009146\n",
      "Epoch 8 completed out of 10 loss 737.037339032\n",
      "Epoch 9 completed out of 10 loss 714.340242624\n",
      "Test accuracy: 94.3%\n"
     ]
    }
   ],
   "source": [
    "hm_epochs = 10\n",
    "train_batch_size = train_dataset.shape[0]\n",
    "\n",
    "with tf.Session(graph=graph) as session:\n",
    "  session.run(tf.initialize_all_variables())\n",
    "\n",
    "  for epoch in range(hm_epochs):\n",
    "    epoch_loss = 0\n",
    "    i=0\n",
    "    while i < train_batch_size:\n",
    "      start = i\n",
    "      end = i+batch\n",
    "      batch_x = np.array(train_dataset[start:end])\n",
    "      batch_y = np.array(train_labels[start:end])\n",
    "      feed_dict = {tf_train_dataset : batch_x, tf_train_labels : batch_y}\n",
    "      _, l, predictions = session.run([optimizer, l2_loss, train_prediction], feed_dict=feed_dict)\n",
    "      epoch_loss += l\n",
    "      i+=batch\n",
    "    print('Epoch', epoch, 'completed out of', hm_epochs, 'loss', epoch_loss)\n",
    "  print(\"Test accuracy: %.1f%%\" % accuracy(test_prediction.eval(), test_labels))"
   ]
  },
  {
   "cell_type": "markdown",
   "metadata": {},
   "source": [
    "---\n",
    "Problem 2\n",
    "---------\n",
    "Let's demonstrate an extreme case of overfitting. Restrict your training data to just a few batches. What happens?\n",
    "\n",
    "---"
   ]
  },
  {
   "cell_type": "code",
   "execution_count": 90,
   "metadata": {
    "collapsed": false
   },
   "outputs": [
    {
     "name": "stdout",
     "output_type": "stream",
     "text": [
      "Epoch 0 completed out of 10 loss 12.6356585026\n",
      "Epoch 1 completed out of 10 loss 10.0167533159\n",
      "Epoch 2 completed out of 10 loss 8.36176371574\n",
      "Epoch 3 completed out of 10 loss 7.35143589973\n",
      "Epoch 4 completed out of 10 loss 6.68097102642\n",
      "Epoch 5 completed out of 10 loss 6.20217561722\n",
      "Epoch 6 completed out of 10 loss 5.84070634842\n",
      "Epoch 7 completed out of 10 loss 5.55540680885\n",
      "Epoch 8 completed out of 10 loss 5.32211959362\n",
      "Epoch 9 completed out of 10 loss 5.12566608191\n",
      "Test accuracy: 82.9%\n"
     ]
    }
   ],
   "source": [
    "hm_epochs = 10\n",
    "mini_train_batch_size = 5*batch\n",
    "\n",
    "with tf.Session(graph=graph) as session:\n",
    "  session.run(tf.initialize_all_variables())\n",
    "\n",
    "  for epoch in range(hm_epochs):\n",
    "    epoch_loss = 0\n",
    "    i=0\n",
    "    while i < mini_train_batch_size:\n",
    "      start = i\n",
    "      end = i+batch\n",
    "      batch_x = np.array(train_dataset[start:end])\n",
    "      batch_y = np.array(train_labels[start:end])\n",
    "      feed_dict = {tf_train_dataset : batch_x, tf_train_labels : batch_y}\n",
    "      _, l, predictions = session.run([optimizer, l2_loss, train_prediction], feed_dict=feed_dict)\n",
    "      epoch_loss += l\n",
    "      i+=batch\n",
    "    print('Epoch', epoch, 'completed out of', hm_epochs, 'loss', epoch_loss)\n",
    "  print(\"Test accuracy: %.1f%%\" % accuracy(test_prediction.eval(), test_labels))\n"
   ]
  },
  {
   "cell_type": "markdown",
   "metadata": {},
   "source": [
    "---\n",
    "Problem 3\n",
    "---------\n",
    "Introduce Dropout on the hidden layer of the neural network. Remember: Dropout should only be introduced during training, not evaluation, otherwise your evaluation results would be stochastic as well. TensorFlow provides `nn.dropout()` for that, but you have to make sure it's only inserted during training.\n",
    "\n",
    "What happens to our extreme overfitting case?\n",
    "\n",
    "---"
   ]
  },
  {
   "cell_type": "code",
   "execution_count": 86,
   "metadata": {
    "collapsed": true
   },
   "outputs": [],
   "source": [
    "batch = 128\n",
    "hl1 = 1024 # No. of hidden units\n",
    "num_classes = 10\n",
    "\n",
    "from math import sqrt\n",
    "\n",
    "graph = tf.Graph()\n",
    "with graph.as_default():\n",
    "\n",
    "  tf_train_dataset = tf.placeholder(tf.float32,shape=(None, image_size * image_size))\n",
    "  tf_train_labels = tf.placeholder(tf.float32, shape=(None, num_classes))\n",
    "  \n",
    "  \n",
    "  tf_test_dataset = tf.constant(test_dataset)\n",
    "  tf_regularization_parameter = 0.001\n",
    "  tf_dropout = 0.5\n",
    "  \n",
    "  \n",
    "  hidden_weights1 = tf.Variable(tf.truncated_normal([image_size * image_size, hl1],stddev=sqrt(2.0/(image_size*image_size + hl1))))\n",
    "  hidden_biases1 = tf.Variable(tf.zeros([hl1]))\n",
    "  output_weights = tf.Variable(tf.truncated_normal([hl1, num_classes],stddev=sqrt(2.0/(hl1 + num_classes))))\n",
    "  output_biases = tf.Variable(tf.zeros([num_classes]))\n",
    "  \n",
    "  \n",
    "  l1 = tf.nn.relu(tf.matmul(tf_train_dataset, hidden_weights1) + hidden_biases1)\n",
    "  l1 = tf.nn.dropout(l1,tf_dropout)  \n",
    "  output = tf.matmul(l1, output_weights) + output_biases\n",
    "    \n",
    "  regularizer = tf.nn.l2_loss(hidden_weights1) + tf.nn.l2_loss(hidden_biases1) + tf.nn.l2_loss(output_weights) + tf.nn.l2_loss(output_biases)\n",
    "  \n",
    "  loss = tf.reduce_mean(tf.nn.softmax_cross_entropy_with_logits(output, tf_train_labels))\n",
    "  l2_loss = tf.reduce_mean(loss + (tf_regularization_parameter * regularizer))\n",
    "    \n",
    "  optimizer = tf.train.MomentumOptimizer(0.03, 0.5).minimize(l2_loss)\n",
    "  \n",
    "  \n",
    "  train_prediction = tf.nn.softmax(output)\n",
    "  h1_test = tf.nn.relu(tf.matmul(tf_test_dataset, hidden_weights1) + hidden_biases1)\n",
    "  test_output = tf.matmul(h1_test, output_weights) + output_biases\n",
    "\n",
    "  test_prediction = tf.nn.softmax(test_output)"
   ]
  },
  {
   "cell_type": "code",
   "execution_count": 52,
   "metadata": {
    "collapsed": true
   },
   "outputs": [],
   "source": [
    "#################################3\n",
    "# Multilayer perceptron with Dropout\n",
    "#################################3\n",
    "\n",
    "batch = 128\n",
    "hl1 = 1024 # No. of hidden units\n",
    "num_classes = 10\n",
    "\n",
    "from math import sqrt\n",
    "\n",
    "graphML_with_dropout = tf.Graph()\n",
    "with graphML_with_dropout.as_default():\n",
    "\n",
    "  tf_train_dataset = tf.placeholder(tf.float32,shape=(None, image_size * image_size))\n",
    "  tf_train_labels = tf.placeholder(tf.float32, shape=(None, num_classes))\n",
    "  \n",
    "#   tf_valid_dataset = tf.constant(valid_dataset)\n",
    "  \n",
    "  tf_test_dataset = tf.constant(test_dataset)\n",
    "  tf_regularization_parameter = 0.001\n",
    "  tf_dropout = 0.5\n",
    "  \n",
    "\n",
    "  \n",
    "  hidden_weights1 = tf.Variable(tf.truncated_normal([image_size * image_size, hl1],stddev=sqrt(2.0/(image_size*image_size + hl1))))\n",
    "  hidden_biases1 = tf.Variable(tf.zeros([hl1]))\n",
    "  hidden_weights2 = tf.Variable(tf.truncated_normal([hl1, hl1],stddev=sqrt(2.0/(hl1 + hl1))))\n",
    "  hidden_biases2 = tf.Variable(tf.zeros([hl1]))\n",
    "  output_weights = tf.Variable(tf.truncated_normal([hl1, num_classes],stddev=sqrt(2.0/(hl1 + num_classes))))\n",
    "  output_biases = tf.Variable(tf.zeros([num_classes]))\n",
    "  \n",
    "  \n",
    "  l1 = tf.nn.relu(tf.matmul(tf_train_dataset, hidden_weights1) + hidden_biases1)\n",
    "  l1 = tf.nn.dropout(l1,tf_dropout)\n",
    "  l2 = tf.nn.relu(tf.matmul(l1,hidden_weights2) + hidden_biases2)\n",
    "  l2 = tf.nn.dropout(l2, tf_dropout)\n",
    "  output = tf.matmul(l2, output_weights) + output_biases\n",
    "    \n",
    "  regularizer = tf.nn.l2_loss(hidden_weights1) + tf.nn.l2_loss(hidden_weights2) + tf.nn.l2_loss(output_weights)\n",
    "  \n",
    "  loss = tf.reduce_mean(tf.nn.softmax_cross_entropy_with_logits(output, tf_train_labels))\n",
    "  l2_loss = tf.reduce_mean(loss + (tf_regularization_parameter * regularizer))\n",
    "  \n",
    "  global_step = tf.Variable(0)\n",
    "  learning_rate = tf.train.exponential_decay(0.5,\n",
    "                                               global_step, \n",
    "                                               decay_steps=50000,\n",
    "                                               decay_rate=0.001)\n",
    "\n",
    "  optimizer = tf.train.GradientDescentOptimizer(learning_rate).minimize(l2_loss, global_step = global_step)\n",
    "  \n",
    "  \n",
    "  train_prediction = tf.nn.softmax(output)\n",
    "  h1_test = tf.nn.relu(tf.matmul(tf_test_dataset, hidden_weights1) + hidden_biases1)\n",
    "  h1_test = tf.nn.dropout(h1_test, tf_dropout)\n",
    "  test_output = tf.matmul(h1_test, output_weights) + output_biases\n",
    "\n",
    "  test_prediction = tf.nn.softmax(test_output)"
   ]
  },
  {
   "cell_type": "code",
   "execution_count": 88,
   "metadata": {
    "collapsed": false
   },
   "outputs": [
    {
     "name": "stdout",
     "output_type": "stream",
     "text": [
      "Epoch 0 completed out of 10 loss 13.1265692711\n",
      "Epoch 1 completed out of 10 loss 10.4547333717\n",
      "Epoch 2 completed out of 10 loss 8.86869597435\n",
      "Epoch 3 completed out of 10 loss 7.69887089729\n",
      "Epoch 4 completed out of 10 loss 7.03619945049\n",
      "Epoch 5 completed out of 10 loss 6.63552606106\n",
      "Epoch 6 completed out of 10 loss 6.22493517399\n",
      "Epoch 7 completed out of 10 loss 5.91891276836\n",
      "Epoch 8 completed out of 10 loss 5.65975475311\n",
      "Epoch 9 completed out of 10 loss 5.44233059883\n",
      "Test accuracy: 82.6%\n"
     ]
    }
   ],
   "source": [
    "hm_epochs = 10\n",
    "\n",
    "with tf.Session(graph=graph) as session:\n",
    "  session.run(tf.initialize_all_variables())\n",
    "\n",
    "  for epoch in range(hm_epochs):\n",
    "    epoch_loss = 0\n",
    "    i=0\n",
    "    while i < mini_train_batch_size:\n",
    "      start = i\n",
    "      end = i+batch\n",
    "      batch_x = np.array(mini_train_data[start:end])\n",
    "      batch_y = np.array(mini_train_labels[start:end])\n",
    "      feed_dict = {tf_train_dataset : batch_x, tf_train_labels : batch_y}\n",
    "      _, l, predictions = session.run([optimizer, l2_loss, train_prediction], feed_dict=feed_dict)\n",
    "      epoch_loss += l\n",
    "      i+=batch\n",
    "    print('Epoch', epoch, 'completed out of', hm_epochs, 'loss', epoch_loss)\n",
    "  print(\"Test accuracy: %.1f%%\" % accuracy(test_prediction.eval(), test_labels))"
   ]
  },
  {
   "cell_type": "markdown",
   "metadata": {},
   "source": [
    "---\n",
    "Problem 4\n",
    "---------\n",
    "\n",
    "Try to get the best performance you can using a multi-layer model! The best reported test accuracy using a deep network is [97.1%](http://yaroslavvb.blogspot.com/2011/09/notmnist-dataset.html?showComment=1391023266211#c8758720086795711595).\n",
    "\n",
    "One avenue you can explore is to add multiple layers.\n",
    "\n",
    "Another one is to use learning rate decay:\n",
    "\n",
    "    global_step = tf.Variable(0)  # count the number of steps taken.\n",
    "    learning_rate = tf.train.exponential_decay(0.5, global_step, ...)\n",
    "    optimizer = tf.train.GradientDescentOptimizer(learning_rate).minimize(loss, global_step=global_step)\n",
    " \n",
    " ---\n"
   ]
  },
  {
   "cell_type": "code",
   "execution_count": 94,
   "metadata": {
    "collapsed": false
   },
   "outputs": [],
   "source": [
    "batch = 128\n",
    "hl1 = 1024 # No. of hidden units\n",
    "num_classes = 10\n",
    "\n",
    "from math import sqrt\n",
    "\n",
    "graphNN = tf.Graph()\n",
    "with graphNN.as_default():\n",
    "\n",
    "  tf_train_dataset = tf.placeholder(tf.float32,shape=(None, image_size * image_size))\n",
    "  tf_train_labels = tf.placeholder(tf.float32, shape=(None, num_classes))\n",
    "  \n",
    "  \n",
    "  tf_test_dataset = tf.constant(test_dataset)\n",
    "  tf_regularization_parameter = 0.001\n",
    "  tf_dropout = 0.5\n",
    "  \n",
    "\n",
    "  \n",
    "  hidden_weights1 = tf.Variable(tf.truncated_normal([image_size * image_size, hl1],stddev=sqrt(2.0/(image_size*image_size + hl1))))\n",
    "  hidden_weights2 = tf.Variable(tf.truncated_normal([hl1, hl1], stddev=sqrt(2.0/(image_size*image_size + hl1))))\n",
    "  output_weights = tf.Variable(tf.truncated_normal([hl1, num_classes]))\n",
    "  hidden_biases1 = tf.Variable(tf.zeros([hl1]))\n",
    "  hidden_biases2 = tf.Variable(tf.zeros([hl1]))\n",
    "  output_biases = tf.Variable(tf.zeros([num_classes]))\n",
    "  \n",
    "  l1 = tf.nn.relu(tf.matmul(tf_train_dataset, hidden_weights1) + hidden_biases1) \n",
    "  l2 = tf.nn.relu(tf.matmul(l1, hidden_weights2) + hidden_biases2)\n",
    "\n",
    "  output = tf.matmul(l2, output_weights) + output_biases\n",
    "    \n",
    "  regularizer = tf.nn.l2_loss(hidden_weights1) + tf.nn.l2_loss(hidden_biases1) + tf.nn.l2_loss(output_weights) + tf.nn.l2_loss(output_biases)\n",
    "  \n",
    "  loss = tf.reduce_mean(tf.nn.softmax_cross_entropy_with_logits(output, tf_train_labels))\n",
    "#   l2_loss = tf.reduce_mean(loss + (tf_regularization_parameter * regularizer))\n",
    "\n",
    "#   global_step = tf.Variable(0)\n",
    "#   learning_rate = tf.train.exponential_decay(0.5,\n",
    "#                                                global_step, \n",
    "#                                                decay_steps=10000,\n",
    "#                                                decay_rate=0.001)\n",
    "  optimizer = tf.train.GradientDescentOptimizer(0.03).minimize(loss)\n",
    "  \n",
    "  train_prediction = tf.nn.softmax(output)\n",
    "  h1_test = tf.nn.relu(tf.matmul(tf_test_dataset, hidden_weights1) + hidden_biases1)\n",
    "  h2_test = tf.nn.relu(tf.matmul(h1_test, hidden_weights2) + hidden_biases2)\n",
    "    \n",
    "  test_output = tf.matmul(h2_test, output_weights) + output_biases\n",
    "\n",
    "  test_prediction = tf.nn.softmax(test_output)"
   ]
  },
  {
   "cell_type": "code",
   "execution_count": 95,
   "metadata": {
    "collapsed": false
   },
   "outputs": [
    {
     "name": "stdout",
     "output_type": "stream",
     "text": [
      "Epoch 0 completed out of 10 loss 793.307695925\n",
      "Epoch 1 completed out of 10 loss 459.092164293\n",
      "Epoch 2 completed out of 10 loss 349.656610101\n",
      "Epoch 3 completed out of 10 loss 272.254500035\n",
      "Epoch 4 completed out of 10 loss 214.366618596\n",
      "Epoch 5 completed out of 10 loss 169.574574228\n",
      "Epoch 6 completed out of 10 loss 135.150065487\n",
      "Epoch 7 completed out of 10 loss 109.477399016\n",
      "Epoch 8 completed out of 10 loss 89.6907814648\n",
      "Epoch 9 completed out of 10 loss 74.7751366831\n",
      "Test accuracy: 95.3%\n"
     ]
    }
   ],
   "source": [
    "hm_epochs = 10\n",
    "with tf.Session(graph=graphNN) as session:\n",
    "  session.run(tf.initialize_all_variables())\n",
    "\n",
    "  for epoch in range(hm_epochs):\n",
    "#     print(learning_rate.eval())\n",
    "    epoch_loss = 0\n",
    "    i=0\n",
    "    while i < train_dataset.shape[0]:\n",
    "      start = i\n",
    "      end = i+batch\n",
    "      batch_x = np.array(train_dataset[start:end])\n",
    "      batch_y = np.array(train_labels[start:end])\n",
    "      feed_dict = {tf_train_dataset : batch_x, tf_train_labels : batch_y}\n",
    "      _, l, predictions = session.run([optimizer, loss, train_prediction], feed_dict=feed_dict)\n",
    "      epoch_loss += l\n",
    "      i+=batch\n",
    "    print('Epoch', epoch, 'completed out of', hm_epochs, 'loss', epoch_loss)\n",
    "  print(\"Test accuracy: %.1f%%\" % accuracy(test_prediction.eval(), test_labels))"
   ]
  },
  {
   "cell_type": "markdown",
   "metadata": {
    "colab_type": "text",
    "id": "-b1hTz3VWZjw"
   },
   "source": []
  }
 ],
 "metadata": {
  "colab": {
   "default_view": {},
   "name": "3_regularization.ipynb",
   "provenance": [],
   "version": "0.3.2",
   "views": {}
  },
  "kernelspec": {
   "display_name": "Python 3",
   "language": "python",
   "name": "python3"
  },
  "language_info": {
   "codemirror_mode": {
    "name": "ipython",
    "version": 3
   },
   "file_extension": ".py",
   "mimetype": "text/x-python",
   "name": "python",
   "nbconvert_exporter": "python",
   "pygments_lexer": "ipython3",
   "version": "3.4.3+"
  }
 },
 "nbformat": 4,
 "nbformat_minor": 0
}
